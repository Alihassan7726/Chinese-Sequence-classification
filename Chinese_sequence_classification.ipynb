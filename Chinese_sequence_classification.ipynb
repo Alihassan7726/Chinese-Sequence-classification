{
 "cells": [
  {
   "cell_type": "markdown",
   "metadata": {
    "id": "YG39Ovxm4vg6"
   },
   "source": [
    "<h1 align=centre> Fine-Tuning BERT using tensorflow and tf_hub</h2>\n",
    "<h1 align=centre> on semantic sentence pairs classification</h2>"
   ]
  },
  {
   "cell_type": "markdown",
   "metadata": {
    "id": "PBLhotao-HrB"
   },
   "source": [
    "In this project we'll see how to fine-tune BERT for sentence pairs classification problem using Tensorflow and tf_hub . \n",
    "\n",
    "The pre-trained BERT models are available at [tensorflow hub](https://tfhub.dev/). "
   ]
  },
  {
   "cell_type": "markdown",
   "metadata": {
    "id": "sT5QC5ux40rp"
   },
   "source": [
    "# Table of contents:\n",
    "\n",
    "- **[Step 1]()**: Installing tensorflow Model garden pakage and other required dependencies \n",
    "- **[Step 2]()**: Mounting Google Drive and importing DataSet \n",
    "- **[Step 3]()**: Importing libraires and defining BERT path URL\n",
    "\n",
    "- **[Step 4]()**: Preprocessing Data using separate Tensorflow model \n",
    "- **[Step 5]()**: Creating a TensorFlow Input Pipeline with `tf.data`\n",
    "- **[Step 6]()**: Adding a Classification Head to the BERT `hub.KerasLayer` Execution\n",
    "- **[Step 7]()**: Fine-Tuning BERT for sentence pairs Classification\n",
    "- **[Step 8]()**: Evaluating Model performance visually \n",
    "- **[Step 9]()**: Exporting Model for Inference\n",
    "- **[Step 10]()**: Testing our BERT Model"
   ]
  },
  {
   "cell_type": "markdown",
   "metadata": {
    "id": "F7JUNaMV-fGY"
   },
   "source": [
    "### Step 1: Installing tensorflow Model garden pakage and other required dependencies \n",
    "\n",
    "\n",
    "You have to restart your kernel in Google Colab after executing below 3 cells by clicking on same `Runtime` menu and then choosing `Restart runtime` . However if you're using local jupyter notebook then just restart your kernel by above menu list. \n",
    "\n",
    "Restarting kernel isn't necessary but good to do"
   ]
  },
  {
   "cell_type": "code",
   "execution_count": null,
   "metadata": {
    "colab": {
     "base_uri": "https://localhost:8080/"
    },
    "id": "K_QqfJ8uK2nu",
    "outputId": "8c4bdfaf-0a85-44a0-e64d-227de970251d"
   },
   "outputs": [
    {
     "name": "stdout",
     "output_type": "stream",
     "text": [
      "\u001b[K     |████████████████████████████████| 4.9 MB 3.8 MB/s \n",
      "\u001b[?25h"
     ]
    }
   ],
   "source": [
    "pip install -q -U tensorflow-text\n"
   ]
  },
  {
   "cell_type": "code",
   "execution_count": null,
   "metadata": {
    "colab": {
     "base_uri": "https://localhost:8080/"
    },
    "id": "c9GBZcsIK6wy",
    "outputId": "1d4e4bea-abb1-4f39-d0df-893e48b8f792"
   },
   "outputs": [
    {
     "name": "stdout",
     "output_type": "stream",
     "text": [
      "\u001b[K     |████████████████████████████████| 1.8 MB 4.4 MB/s \n",
      "\u001b[K     |████████████████████████████████| 99 kB 8.0 MB/s \n",
      "\u001b[K     |████████████████████████████████| 90 kB 8.8 MB/s \n",
      "\u001b[K     |████████████████████████████████| 596 kB 44.2 MB/s \n",
      "\u001b[K     |████████████████████████████████| 1.1 MB 39.2 MB/s \n",
      "\u001b[K     |████████████████████████████████| 352 kB 15.9 MB/s \n",
      "\u001b[K     |████████████████████████████████| 47.6 MB 1.8 MB/s \n",
      "\u001b[K     |████████████████████████████████| 43 kB 1.7 MB/s \n",
      "\u001b[K     |████████████████████████████████| 1.2 MB 51.9 MB/s \n",
      "\u001b[K     |████████████████████████████████| 213 kB 41.8 MB/s \n",
      "\u001b[?25h  Building wheel for py-cpuinfo (setup.py) ... \u001b[?25l\u001b[?25hdone\n",
      "  Building wheel for seqeval (setup.py) ... \u001b[?25l\u001b[?25hdone\n"
     ]
    }
   ],
   "source": [
    "# To create Adamw optimizor\n",
    "!pip install -q tf-models-official\n"
   ]
  },
  {
   "cell_type": "code",
   "execution_count": null,
   "metadata": {
    "colab": {
     "base_uri": "https://localhost:8080/",
     "height": 502
    },
    "id": "FL4AFDw6LEmP",
    "outputId": "bbbeba28-e88e-4c39-ae8c-fc4addecc0a3"
   },
   "outputs": [
    {
     "name": "stdout",
     "output_type": "stream",
     "text": [
      "Collecting tfds-nightly\n",
      "  Downloading tfds_nightly-4.4.0.dev202112170108-py3-none-any.whl (4.1 MB)\n",
      "\u001b[K     |████████████████████████████████| 4.1 MB 4.4 MB/s \n",
      "\u001b[?25hRequirement already satisfied: termcolor in /usr/local/lib/python3.7/dist-packages (from tfds-nightly) (1.1.0)\n",
      "Requirement already satisfied: promise in /usr/local/lib/python3.7/dist-packages (from tfds-nightly) (2.3)\n",
      "Requirement already satisfied: typing-extensions in /usr/local/lib/python3.7/dist-packages (from tfds-nightly) (3.10.0.2)\n",
      "Requirement already satisfied: numpy in /usr/local/lib/python3.7/dist-packages (from tfds-nightly) (1.19.5)\n",
      "Requirement already satisfied: tqdm in /usr/local/lib/python3.7/dist-packages (from tfds-nightly) (4.62.3)\n",
      "Requirement already satisfied: requests>=2.19.0 in /usr/local/lib/python3.7/dist-packages (from tfds-nightly) (2.23.0)\n",
      "Requirement already satisfied: dill in /usr/local/lib/python3.7/dist-packages (from tfds-nightly) (0.3.4)\n",
      "Requirement already satisfied: tensorflow-metadata in /usr/local/lib/python3.7/dist-packages (from tfds-nightly) (1.4.0)\n",
      "Requirement already satisfied: importlib-resources in /usr/local/lib/python3.7/dist-packages (from tfds-nightly) (5.4.0)\n",
      "Requirement already satisfied: six in /usr/local/lib/python3.7/dist-packages (from tfds-nightly) (1.15.0)\n",
      "Requirement already satisfied: protobuf>=3.12.2 in /usr/local/lib/python3.7/dist-packages (from tfds-nightly) (3.17.3)\n",
      "Requirement already satisfied: absl-py in /usr/local/lib/python3.7/dist-packages (from tfds-nightly) (0.12.0)\n",
      "Requirement already satisfied: urllib3!=1.25.0,!=1.25.1,<1.26,>=1.21.1 in /usr/local/lib/python3.7/dist-packages (from requests>=2.19.0->tfds-nightly) (1.24.3)\n",
      "Requirement already satisfied: certifi>=2017.4.17 in /usr/local/lib/python3.7/dist-packages (from requests>=2.19.0->tfds-nightly) (2021.10.8)\n",
      "Requirement already satisfied: idna<3,>=2.5 in /usr/local/lib/python3.7/dist-packages (from requests>=2.19.0->tfds-nightly) (2.10)\n",
      "Requirement already satisfied: chardet<4,>=3.0.2 in /usr/local/lib/python3.7/dist-packages (from requests>=2.19.0->tfds-nightly) (3.0.4)\n",
      "Requirement already satisfied: zipp>=3.1.0 in /usr/local/lib/python3.7/dist-packages (from importlib-resources->tfds-nightly) (3.6.0)\n",
      "Requirement already satisfied: googleapis-common-protos<2,>=1.52.0 in /usr/local/lib/python3.7/dist-packages (from tensorflow-metadata->tfds-nightly) (1.53.0)\n",
      "Installing collected packages: tfds-nightly\n",
      "Successfully installed tfds-nightly-4.4.0.dev202112170108\n"
     ]
    },
    {
     "data": {
      "application/vnd.colab-display-data+json": {
       "pip_warning": {
        "packages": [
         "tensorflow_datasets"
        ]
       }
      }
     },
     "metadata": {},
     "output_type": "display_data"
    }
   ],
   "source": [
    "pip install -U tfds-nightly\n"
   ]
  },
  {
   "cell_type": "markdown",
   "metadata": {
    "id": "fBOuIGGz5kNh"
   },
   "source": [
    "### Step 2: Mounting Google Drive and importing DataSet\n",
    "\n",
    "In below cells we will mount Google Drive, as this project is done using Google Colab so we can't just import our data from local disk space . Instead we will first upload it on Google Drive then mount it here in Colab in order to get access to Data . \n",
    "\n",
    "You can skip this step and directly import Data from local disk space if you're using Jupyter Notebook"
   ]
  },
  {
   "cell_type": "code",
   "execution_count": null,
   "metadata": {
    "id": "rIDQN2HG8EOW"
   },
   "outputs": [],
   "source": [
    "## Importing basic libraires\n",
    "\n",
    "import numpy as np\n",
    "import pandas as pd\n",
    "pd.set_option('display.width',1000)\n",
    "pd.set_option('max_colwidth', 1000) \n",
    "import os\n"
   ]
  },
  {
   "cell_type": "code",
   "execution_count": null,
   "metadata": {
    "colab": {
     "base_uri": "https://localhost:8080/"
    },
    "id": "6_LEKV2tBoYI",
    "outputId": "67864bf3-8ae8-47ca-d5b9-1f2dc6ce8f86"
   },
   "outputs": [
    {
     "name": "stdout",
     "output_type": "stream",
     "text": [
      "Mounted at gdrive\n"
     ]
    }
   ],
   "source": [
    "## Mounting google drive\n",
    "\n",
    "from google.colab import drive\n",
    "drive.mount('gdrive') "
   ]
  },
  {
   "cell_type": "code",
   "execution_count": null,
   "metadata": {
    "colab": {
     "base_uri": "https://localhost:8080/"
    },
    "id": "a8eqELD6B4CS",
    "outputId": "962acec3-a404-4e92-e93d-dc19d6edb89c"
   },
   "outputs": [
    {
     "name": "stdout",
     "output_type": "stream",
     "text": [
      "/content/gdrive/MyDrive/Colab DataSets/upwork_data\n"
     ]
    }
   ],
   "source": [
    "%cd /content/gdrive/MyDrive/Colab DataSets/upwork_data/"
   ]
  },
  {
   "cell_type": "code",
   "execution_count": null,
   "metadata": {
    "colab": {
     "base_uri": "https://localhost:8080/",
     "height": 206
    },
    "id": "uWeUXyOo8bh3",
    "outputId": "dada258f-5558-4d33-9da2-92901f5e7452"
   },
   "outputs": [
    {
     "data": {
      "text/html": [
       "\n",
       "  <div id=\"df-98b60f21-f7f9-40e1-ab23-7ec76c55d548\">\n",
       "    <div class=\"colab-df-container\">\n",
       "      <div>\n",
       "<style scoped>\n",
       "    .dataframe tbody tr th:only-of-type {\n",
       "        vertical-align: middle;\n",
       "    }\n",
       "\n",
       "    .dataframe tbody tr th {\n",
       "        vertical-align: top;\n",
       "    }\n",
       "\n",
       "    .dataframe thead th {\n",
       "        text-align: right;\n",
       "    }\n",
       "</style>\n",
       "<table border=\"1\" class=\"dataframe\">\n",
       "  <thead>\n",
       "    <tr style=\"text-align: right;\">\n",
       "      <th></th>\n",
       "      <th>address</th>\n",
       "      <th>location</th>\n",
       "      <th>score</th>\n",
       "    </tr>\n",
       "  </thead>\n",
       "  <tbody>\n",
       "    <tr>\n",
       "      <th>0</th>\n",
       "      <td>荃灣葵涌陳氏家祠</td>\n",
       "      <td>陳氏家祠</td>\n",
       "      <td>1</td>\n",
       "    </tr>\n",
       "    <tr>\n",
       "      <th>1</th>\n",
       "      <td>荃灣葵涌陳氏家祠</td>\n",
       "      <td>上葵涌村陳氏家祠</td>\n",
       "      <td>0</td>\n",
       "    </tr>\n",
       "    <tr>\n",
       "      <th>2</th>\n",
       "      <td>荃灣葵涌陳氏家祠</td>\n",
       "      <td>陳氏祠堂</td>\n",
       "      <td>0</td>\n",
       "    </tr>\n",
       "    <tr>\n",
       "      <th>3</th>\n",
       "      <td>葵青葵涌關帝廟</td>\n",
       "      <td>關帝廟</td>\n",
       "      <td>1</td>\n",
       "    </tr>\n",
       "    <tr>\n",
       "      <th>4</th>\n",
       "      <td>葵青葵涌關帝廟</td>\n",
       "      <td>關帝古廟</td>\n",
       "      <td>0</td>\n",
       "    </tr>\n",
       "  </tbody>\n",
       "</table>\n",
       "</div>\n",
       "      <button class=\"colab-df-convert\" onclick=\"convertToInteractive('df-98b60f21-f7f9-40e1-ab23-7ec76c55d548')\"\n",
       "              title=\"Convert this dataframe to an interactive table.\"\n",
       "              style=\"display:none;\">\n",
       "        \n",
       "  <svg xmlns=\"http://www.w3.org/2000/svg\" height=\"24px\"viewBox=\"0 0 24 24\"\n",
       "       width=\"24px\">\n",
       "    <path d=\"M0 0h24v24H0V0z\" fill=\"none\"/>\n",
       "    <path d=\"M18.56 5.44l.94 2.06.94-2.06 2.06-.94-2.06-.94-.94-2.06-.94 2.06-2.06.94zm-11 1L8.5 8.5l.94-2.06 2.06-.94-2.06-.94L8.5 2.5l-.94 2.06-2.06.94zm10 10l.94 2.06.94-2.06 2.06-.94-2.06-.94-.94-2.06-.94 2.06-2.06.94z\"/><path d=\"M17.41 7.96l-1.37-1.37c-.4-.4-.92-.59-1.43-.59-.52 0-1.04.2-1.43.59L10.3 9.45l-7.72 7.72c-.78.78-.78 2.05 0 2.83L4 21.41c.39.39.9.59 1.41.59.51 0 1.02-.2 1.41-.59l7.78-7.78 2.81-2.81c.8-.78.8-2.07 0-2.86zM5.41 20L4 18.59l7.72-7.72 1.47 1.35L5.41 20z\"/>\n",
       "  </svg>\n",
       "      </button>\n",
       "      \n",
       "  <style>\n",
       "    .colab-df-container {\n",
       "      display:flex;\n",
       "      flex-wrap:wrap;\n",
       "      gap: 12px;\n",
       "    }\n",
       "\n",
       "    .colab-df-convert {\n",
       "      background-color: #E8F0FE;\n",
       "      border: none;\n",
       "      border-radius: 50%;\n",
       "      cursor: pointer;\n",
       "      display: none;\n",
       "      fill: #1967D2;\n",
       "      height: 32px;\n",
       "      padding: 0 0 0 0;\n",
       "      width: 32px;\n",
       "    }\n",
       "\n",
       "    .colab-df-convert:hover {\n",
       "      background-color: #E2EBFA;\n",
       "      box-shadow: 0px 1px 2px rgba(60, 64, 67, 0.3), 0px 1px 3px 1px rgba(60, 64, 67, 0.15);\n",
       "      fill: #174EA6;\n",
       "    }\n",
       "\n",
       "    [theme=dark] .colab-df-convert {\n",
       "      background-color: #3B4455;\n",
       "      fill: #D2E3FC;\n",
       "    }\n",
       "\n",
       "    [theme=dark] .colab-df-convert:hover {\n",
       "      background-color: #434B5C;\n",
       "      box-shadow: 0px 1px 3px 1px rgba(0, 0, 0, 0.15);\n",
       "      filter: drop-shadow(0px 1px 2px rgba(0, 0, 0, 0.3));\n",
       "      fill: #FFFFFF;\n",
       "    }\n",
       "  </style>\n",
       "\n",
       "      <script>\n",
       "        const buttonEl =\n",
       "          document.querySelector('#df-98b60f21-f7f9-40e1-ab23-7ec76c55d548 button.colab-df-convert');\n",
       "        buttonEl.style.display =\n",
       "          google.colab.kernel.accessAllowed ? 'block' : 'none';\n",
       "\n",
       "        async function convertToInteractive(key) {\n",
       "          const element = document.querySelector('#df-98b60f21-f7f9-40e1-ab23-7ec76c55d548');\n",
       "          const dataTable =\n",
       "            await google.colab.kernel.invokeFunction('convertToInteractive',\n",
       "                                                     [key], {});\n",
       "          if (!dataTable) return;\n",
       "\n",
       "          const docLinkHtml = 'Like what you see? Visit the ' +\n",
       "            '<a target=\"_blank\" href=https://colab.research.google.com/notebooks/data_table.ipynb>data table notebook</a>'\n",
       "            + ' to learn more about interactive tables.';\n",
       "          element.innerHTML = '';\n",
       "          dataTable['output_type'] = 'display_data';\n",
       "          await google.colab.output.renderOutput(dataTable, element);\n",
       "          const docLink = document.createElement('div');\n",
       "          docLink.innerHTML = docLinkHtml;\n",
       "          element.appendChild(docLink);\n",
       "        }\n",
       "      </script>\n",
       "    </div>\n",
       "  </div>\n",
       "  "
      ],
      "text/plain": [
       "    address  location  score\n",
       "0  荃灣葵涌陳氏家祠      陳氏家祠      1\n",
       "1  荃灣葵涌陳氏家祠  上葵涌村陳氏家祠      0\n",
       "2  荃灣葵涌陳氏家祠      陳氏祠堂      0\n",
       "3   葵青葵涌關帝廟       關帝廟      1\n",
       "4   葵青葵涌關帝廟      關帝古廟      0"
      ]
     },
     "execution_count": 3,
     "metadata": {},
     "output_type": "execute_result"
    }
   ],
   "source": [
    "## Importing DataSet and limiting only to first 5000 rows to save time and to avoid memory errors \n",
    "## If you have high RAM then just remove the argument 'nrows' given below\n",
    "\n",
    "df = pd.read_csv('address-result.csv' , encoding = 'utf-8',\n",
    "                  nrows=5000)\n",
    "df.head()"
   ]
  },
  {
   "cell_type": "code",
   "execution_count": null,
   "metadata": {
    "colab": {
     "base_uri": "https://localhost:8080/"
    },
    "id": "Cr_KIApLCH5o",
    "outputId": "d3ba2651-697d-4cc5-db07-8942286cba6a"
   },
   "outputs": [
    {
     "name": "stdout",
     "output_type": "stream",
     "text": [
      "<class 'pandas.core.frame.DataFrame'>\n",
      "RangeIndex: 5000 entries, 0 to 4999\n",
      "Data columns (total 3 columns):\n",
      " #   Column    Non-Null Count  Dtype \n",
      "---  ------    --------------  ----- \n",
      " 0   address   5000 non-null   object\n",
      " 1   location  5000 non-null   object\n",
      " 2   score     5000 non-null   int64 \n",
      "dtypes: int64(1), object(2)\n",
      "memory usage: 117.3+ KB\n",
      "None\n"
     ]
    }
   ],
   "source": [
    "print(df.info())"
   ]
  },
  {
   "cell_type": "code",
   "execution_count": null,
   "metadata": {
    "colab": {
     "base_uri": "https://localhost:8080/"
    },
    "id": "0Bib0YYaCOAM",
    "outputId": "f3feb2cc-e621-40ff-c6a8-77876f19ce12"
   },
   "outputs": [
    {
     "name": "stdout",
     "output_type": "stream",
     "text": [
      "Maximum address length is : 36\n",
      "\n",
      "Maximum location length is : 21\n"
     ]
    }
   ],
   "source": [
    "## It is important to note maximum length of sentences, in your case it would be greater/different\n",
    "## based on length value we will set 'seq_length' argument below ( it will be a bit greater then either of address/location maximum length value)\n",
    "\n",
    "total_address = []\n",
    "total_location = []\n",
    "\n",
    "for address in df['address']:\n",
    "  total_address.append(len(address))\n",
    "\n",
    "for location in df['location']:\n",
    "  total_location.append(len(location))\n",
    "\n",
    "print(\"Maximum address length is : {}\".format(max(total_address)))\n",
    "print(\"\\nMaximum location length is : {}\".format(max(total_location)))"
   ]
  },
  {
   "cell_type": "code",
   "execution_count": null,
   "metadata": {
    "colab": {
     "base_uri": "https://localhost:8080/"
    },
    "id": "Xbf19oaQLHMz",
    "outputId": "a9f89acb-dfec-4b3b-a502-3fe3f2c03057"
   },
   "outputs": [
    {
     "data": {
      "text/plain": [
       "0    2901\n",
       "1    2099\n",
       "Name: score, dtype: int64"
      ]
     },
     "execution_count": 6,
     "metadata": {},
     "output_type": "execute_result"
    }
   ],
   "source": [
    "df['score'].value_counts()"
   ]
  },
  {
   "cell_type": "code",
   "execution_count": null,
   "metadata": {
    "colab": {
     "base_uri": "https://localhost:8080/"
    },
    "id": "DvIRFfWiMEvE",
    "outputId": "d933809f-4140-4787-9e65-0ce354b7f288"
   },
   "outputs": [
    {
     "name": "stdout",
     "output_type": "stream",
     "text": [
      "(4500, 3)\n",
      "(450, 3)\n"
     ]
    }
   ],
   "source": [
    "## Splitting our Data into Train & tests sets for our model \n",
    "\n",
    "import sklearn\n",
    "from sklearn.model_selection import train_test_split\n",
    "\n",
    "train_df, remaining  = train_test_split(df[['address','location','score']], stratify = df['score'], test_size = 0.1)\n",
    "test_df, remaining  = train_test_split(remaining[['address','location','score']], stratify = remaining['score'], test_size = 0.1)\n",
    "\n",
    "\n",
    "print(train_df.shape)\n",
    "print(test_df.shape)"
   ]
  },
  {
   "cell_type": "code",
   "execution_count": null,
   "metadata": {
    "colab": {
     "base_uri": "https://localhost:8080/",
     "height": 206
    },
    "id": "W9WEUSJ5OOFc",
    "outputId": "4f1eb04a-f094-452b-9685-e2637a358d57"
   },
   "outputs": [
    {
     "data": {
      "text/html": [
       "\n",
       "  <div id=\"df-410a495b-0c13-43b1-b8dc-c3f010fa7b6f\">\n",
       "    <div class=\"colab-df-container\">\n",
       "      <div>\n",
       "<style scoped>\n",
       "    .dataframe tbody tr th:only-of-type {\n",
       "        vertical-align: middle;\n",
       "    }\n",
       "\n",
       "    .dataframe tbody tr th {\n",
       "        vertical-align: top;\n",
       "    }\n",
       "\n",
       "    .dataframe thead th {\n",
       "        text-align: right;\n",
       "    }\n",
       "</style>\n",
       "<table border=\"1\" class=\"dataframe\">\n",
       "  <thead>\n",
       "    <tr style=\"text-align: right;\">\n",
       "      <th></th>\n",
       "      <th>address</th>\n",
       "      <th>location</th>\n",
       "      <th>score</th>\n",
       "    </tr>\n",
       "  </thead>\n",
       "  <tbody>\n",
       "    <tr>\n",
       "      <th>870</th>\n",
       "      <td>荃灣青龍頭青山公路　－　青龍頭段15號</td>\n",
       "      <td>青山公路　－　青龍頭段15號</td>\n",
       "      <td>1</td>\n",
       "    </tr>\n",
       "    <tr>\n",
       "      <th>4394</th>\n",
       "      <td>油尖旺區尖沙咀漆咸道南125-127號天主教玫瑰堂</td>\n",
       "      <td>聖母玫瑰堂</td>\n",
       "      <td>0</td>\n",
       "    </tr>\n",
       "    <tr>\n",
       "      <th>1048</th>\n",
       "      <td>葵青葵涌永順街26A號</td>\n",
       "      <td>永順街26號A</td>\n",
       "      <td>1</td>\n",
       "    </tr>\n",
       "    <tr>\n",
       "      <th>1428</th>\n",
       "      <td>九龍城筆架山安域道2號映月臺</td>\n",
       "      <td>安域道2號</td>\n",
       "      <td>1</td>\n",
       "    </tr>\n",
       "    <tr>\n",
       "      <th>1512</th>\n",
       "      <td>觀塘九龍灣啓樂街15號九龍灣體育館</td>\n",
       "      <td>啓樂街15號</td>\n",
       "      <td>1</td>\n",
       "    </tr>\n",
       "  </tbody>\n",
       "</table>\n",
       "</div>\n",
       "      <button class=\"colab-df-convert\" onclick=\"convertToInteractive('df-410a495b-0c13-43b1-b8dc-c3f010fa7b6f')\"\n",
       "              title=\"Convert this dataframe to an interactive table.\"\n",
       "              style=\"display:none;\">\n",
       "        \n",
       "  <svg xmlns=\"http://www.w3.org/2000/svg\" height=\"24px\"viewBox=\"0 0 24 24\"\n",
       "       width=\"24px\">\n",
       "    <path d=\"M0 0h24v24H0V0z\" fill=\"none\"/>\n",
       "    <path d=\"M18.56 5.44l.94 2.06.94-2.06 2.06-.94-2.06-.94-.94-2.06-.94 2.06-2.06.94zm-11 1L8.5 8.5l.94-2.06 2.06-.94-2.06-.94L8.5 2.5l-.94 2.06-2.06.94zm10 10l.94 2.06.94-2.06 2.06-.94-2.06-.94-.94-2.06-.94 2.06-2.06.94z\"/><path d=\"M17.41 7.96l-1.37-1.37c-.4-.4-.92-.59-1.43-.59-.52 0-1.04.2-1.43.59L10.3 9.45l-7.72 7.72c-.78.78-.78 2.05 0 2.83L4 21.41c.39.39.9.59 1.41.59.51 0 1.02-.2 1.41-.59l7.78-7.78 2.81-2.81c.8-.78.8-2.07 0-2.86zM5.41 20L4 18.59l7.72-7.72 1.47 1.35L5.41 20z\"/>\n",
       "  </svg>\n",
       "      </button>\n",
       "      \n",
       "  <style>\n",
       "    .colab-df-container {\n",
       "      display:flex;\n",
       "      flex-wrap:wrap;\n",
       "      gap: 12px;\n",
       "    }\n",
       "\n",
       "    .colab-df-convert {\n",
       "      background-color: #E8F0FE;\n",
       "      border: none;\n",
       "      border-radius: 50%;\n",
       "      cursor: pointer;\n",
       "      display: none;\n",
       "      fill: #1967D2;\n",
       "      height: 32px;\n",
       "      padding: 0 0 0 0;\n",
       "      width: 32px;\n",
       "    }\n",
       "\n",
       "    .colab-df-convert:hover {\n",
       "      background-color: #E2EBFA;\n",
       "      box-shadow: 0px 1px 2px rgba(60, 64, 67, 0.3), 0px 1px 3px 1px rgba(60, 64, 67, 0.15);\n",
       "      fill: #174EA6;\n",
       "    }\n",
       "\n",
       "    [theme=dark] .colab-df-convert {\n",
       "      background-color: #3B4455;\n",
       "      fill: #D2E3FC;\n",
       "    }\n",
       "\n",
       "    [theme=dark] .colab-df-convert:hover {\n",
       "      background-color: #434B5C;\n",
       "      box-shadow: 0px 1px 3px 1px rgba(0, 0, 0, 0.15);\n",
       "      filter: drop-shadow(0px 1px 2px rgba(0, 0, 0, 0.3));\n",
       "      fill: #FFFFFF;\n",
       "    }\n",
       "  </style>\n",
       "\n",
       "      <script>\n",
       "        const buttonEl =\n",
       "          document.querySelector('#df-410a495b-0c13-43b1-b8dc-c3f010fa7b6f button.colab-df-convert');\n",
       "        buttonEl.style.display =\n",
       "          google.colab.kernel.accessAllowed ? 'block' : 'none';\n",
       "\n",
       "        async function convertToInteractive(key) {\n",
       "          const element = document.querySelector('#df-410a495b-0c13-43b1-b8dc-c3f010fa7b6f');\n",
       "          const dataTable =\n",
       "            await google.colab.kernel.invokeFunction('convertToInteractive',\n",
       "                                                     [key], {});\n",
       "          if (!dataTable) return;\n",
       "\n",
       "          const docLinkHtml = 'Like what you see? Visit the ' +\n",
       "            '<a target=\"_blank\" href=https://colab.research.google.com/notebooks/data_table.ipynb>data table notebook</a>'\n",
       "            + ' to learn more about interactive tables.';\n",
       "          element.innerHTML = '';\n",
       "          dataTable['output_type'] = 'display_data';\n",
       "          await google.colab.output.renderOutput(dataTable, element);\n",
       "          const docLink = document.createElement('div');\n",
       "          docLink.innerHTML = docLinkHtml;\n",
       "          element.appendChild(docLink);\n",
       "        }\n",
       "      </script>\n",
       "    </div>\n",
       "  </div>\n",
       "  "
      ],
      "text/plain": [
       "                        address        location  score\n",
       "870         荃灣青龍頭青山公路　－　青龍頭段15號  青山公路　－　青龍頭段15號      1\n",
       "4394  油尖旺區尖沙咀漆咸道南125-127號天主教玫瑰堂           聖母玫瑰堂      0\n",
       "1048                葵青葵涌永順街26A號         永順街26號A      1\n",
       "1428             九龍城筆架山安域道2號映月臺           安域道2號      1\n",
       "1512          觀塘九龍灣啓樂街15號九龍灣體育館          啓樂街15號      1"
      ]
     },
     "execution_count": 8,
     "metadata": {},
     "output_type": "execute_result"
    }
   ],
   "source": [
    "del(df)\n",
    "del(remaining)\n",
    "test_df.head()"
   ]
  },
  {
   "cell_type": "markdown",
   "metadata": {
    "id": "UJRgJRJH_p6t"
   },
   "source": [
    "### Step 3: Importing libraires and defining BERT path URL\n",
    "\n",
    "Here we will all modules from libraires we have installed in the beginning in order to perfrom certain tasks and modeling methods. "
   ]
  },
  {
   "cell_type": "code",
   "execution_count": null,
   "metadata": {
    "id": "YrJC61f4LTjE"
   },
   "outputs": [],
   "source": [
    "import os\n",
    "\n",
    "import numpy as np\n",
    "import matplotlib.pyplot as plt\n",
    "\n",
    "import tensorflow as tf\n",
    "import tensorflow_hub as hub\n",
    "import tensorflow_datasets as tfds\n",
    "tfds.disable_progress_bar()\n",
    "\n",
    "from official.modeling import tf_utils\n",
    "from official import nlp\n",
    "from official.nlp import bert\n",
    "\n",
    "# Load the required submodules\n",
    "import official.nlp.optimization\n",
    "from official.nlp import optimization  # to create AdamW optimizer\n",
    "import official.nlp.bert.bert_models\n",
    "import official.nlp.bert.configs\n",
    "import official.nlp.bert.run_classifier\n",
    "import official.nlp.bert.tokenization\n",
    "import official.nlp.data.classifier_data_lib\n",
    "import official.nlp.modeling.losses\n",
    "import official.nlp.modeling.models\n",
    "import official.nlp.modeling.networks\n",
    "tf.get_logger().setLevel('ERROR')\n"
   ]
  },
  {
   "cell_type": "code",
   "execution_count": null,
   "metadata": {
    "id": "mubOceExPgly"
   },
   "outputs": [],
   "source": [
    "# Model URL\n",
    "hub_bert_url = \"https://tfhub.dev/tensorflow/bert_multi_cased_L-12_H-768_A-12/4\"\n",
    "# Preprocessor URL\n",
    "hub_handle_preprocess = \"https://tfhub.dev/tensorflow/bert_multi_cased_preprocess/3\"\n",
    "\n",
    "\n",
    "# Here you can see we are able to preprocess our inputs\n",
    "bert_preprocess = hub.load(hub_handle_preprocess)\n",
    "text_1a = \"觀塘藍田啟田道71號藍田（西區）社區中心\"\n",
    "text_1b = \"啟田道67號\"\n",
    "\n",
    "tok_1a = bert_preprocess.tokenize([text_1a])\n",
    "tok_1b = bert_preprocess.tokenize([text_1b])\n"
   ]
  },
  {
   "cell_type": "markdown",
   "metadata": {
    "id": "OaqLB_bT8c60"
   },
   "source": [
    "### Step 4: Preprocessing Data using separate Tensorflow model\n",
    "\n",
    "Here we will define a Tensorflow model specially for preprocessing raw text inputs into a form that BERT accepts. We will define this model to directly pass our full Data to be processed all at once. BERT accepts 3 inputs `input_type_ids`, `input_word_ids` & `input_mask`\n",
    "\n"
   ]
  },
  {
   "cell_type": "code",
   "execution_count": null,
   "metadata": {
    "colab": {
     "base_uri": "https://localhost:8080/",
     "height": 272
    },
    "id": "MWXpeinjP3-o",
    "outputId": "1fc52461-974b-4ae6-a23e-4de5d78cf2b9"
   },
   "outputs": [
    {
     "data": {
      "image/png": "[encoded data removed]",
      "text/plain": [
       "<IPython.core.display.Image object>"
      ]
     },
     "execution_count": 11,
     "metadata": {},
     "output_type": "execute_result"
    }
   ],
   "source": [
    "## See below output plot . It will take Address and location as inputs and then final_layer will give BERT expected inputs\n",
    "\n",
    "preprocessor = hub.load(\n",
    "    \"https://tfhub.dev/tensorflow/bert_multi_cased_preprocess/3\")\n",
    "\n",
    "def pre_func(sentences):\n",
    "  \n",
    "  \n",
    "  \n",
    "  # Step 1: tokenize batches of text inputs.\n",
    "  text_inputs = [tf.keras.layers.Input(shape=(), dtype=tf.string, name = ft) for ft in sentences] # This SavedModel accepts up to 2 text inputs.\n",
    "  #label_input = tf.keras.layers.Input(shape=(), dtype=tf.int32,\n",
    "   #                                      name = label)\n",
    "  tokenize = hub.KerasLayer(preprocessor.tokenize, name = \"tokenizer\")\n",
    "  tokenized_inputs = [tokenize(segment) for segment in text_inputs]\n",
    "\n",
    "  # Step 2 (optional): modify tokenized inputs.\n",
    "  pass\n",
    "\n",
    "  # Step 3: pack input sequences for the Transformer encoder.\n",
    "  seq_length = 40  # Your choice here. ( Change value 40 to another value based on either Address/location maximum length )\n",
    "  bert_pack_inputs = hub.KerasLayer(\n",
    "      preprocessor.bert_pack_inputs,\n",
    "      name = \"final_layer\",\n",
    "      arguments=dict(seq_length=seq_length))  # Optional argument.\n",
    "  encoder_inputs = bert_pack_inputs(tokenized_inputs)\n",
    "  #encoder_inputs = (encoder_inputs, label_input)\n",
    "  return tf.keras.Model(text_inputs, encoder_inputs)\n",
    "\n",
    "\n",
    "\n",
    "bert_preprocessor = pre_func(['address','location'])\n",
    "tf.keras.utils.plot_model(bert_preprocessor)\n"
   ]
  },
  {
   "cell_type": "code",
   "execution_count": null,
   "metadata": {
    "colab": {
     "base_uri": "https://localhost:8080/"
    },
    "id": "L6-ebkGlQAoy",
    "outputId": "a0287c4e-9a61-4547-def7-d4d2c5e9f145"
   },
   "outputs": [
    {
     "name": "stdout",
     "output_type": "stream",
     "text": [
      "<class 'dict'>\n"
     ]
    },
    {
     "data": {
      "text/plain": [
       "<tf.Tensor: shape=(1, 40), dtype=int32, numpy=\n",
       "array([[  101,  7155,  3126,  6916,  5610,  2898,  5610,  7761, 12513,\n",
       "         6951,  6916,  5610, 10060,  7138,  2665, 10061,  5900,  2665,\n",
       "         2104,  3792,   102,  2898,  5610,  7761, 12316,  6951,   102,\n",
       "            0,     0,     0,     0,     0,     0,     0,     0,     0,\n",
       "            0,     0,     0,     0]], dtype=int32)>"
      ]
     },
     "execution_count": 12,
     "metadata": {},
     "output_type": "execute_result"
    }
   ],
   "source": [
    "## Testing our above preprocess model to process raw inputs into 'input_type_ids', 'input_word_ids' & 'input_mask'\n",
    "\n",
    "text_1a = \"觀塘藍田啟田道71號藍田（西區）社區中心\"\n",
    "text_1b = \"啟田道67號\"\n",
    "\n",
    "text_preprocessed = bert_preprocessor([np.array([text_1a]), np.array([text_1b])])\n",
    "print(type(text_preprocessed))\n",
    "text_preprocessed['input_word_ids']"
   ]
  },
  {
   "cell_type": "code",
   "execution_count": null,
   "metadata": {
    "colab": {
     "base_uri": "https://localhost:8080/"
    },
    "id": "ZdoRUPuJQlR0",
    "outputId": "6569c40d-438a-47b4-8a84-edc6e79319b6"
   },
   "outputs": [
    {
     "name": "stdout",
     "output_type": "stream",
     "text": [
      "<class 'dict'>\n"
     ]
    },
    {
     "data": {
      "text/plain": [
       "<tf.Tensor: shape=(1, 40), dtype=int32, numpy=\n",
       "array([[ 101, 2133, 8833, 3086, 4744, 8391, 5886, 6724, 2316, 7762, 7761,\n",
       "         123, 6951, 8271, 6692, 3023,  102, 8271, 6692, 3023,  102,    0,\n",
       "           0,    0,    0,    0,    0,    0,    0,    0,    0,    0,    0,\n",
       "           0,    0,    0,    0,    0,    0,    0]], dtype=int32)>"
      ]
     },
     "execution_count": 13,
     "metadata": {},
     "output_type": "execute_result"
    }
   ],
   "source": [
    "text_4a = \"九龍城橫頭磡范信達道2號雅芳園\"\n",
    "text_4b = \"雅芳園\"\n",
    "\n",
    "output = bert_preprocessor([np.array([text_4a]), np.array([text_4b])])\n",
    "print(type(output))\n",
    "output['input_word_ids']\n"
   ]
  },
  {
   "cell_type": "code",
   "execution_count": null,
   "metadata": {
    "colab": {
     "base_uri": "https://localhost:8080/"
    },
    "id": "a-_8Ue3bQuIi",
    "outputId": "da3beca0-5af2-4cce-e830-9365e2a30145"
   },
   "outputs": [
    {
     "name": "stdout",
     "output_type": "stream",
     "text": [
      "<class 'dict'>\n"
     ]
    },
    {
     "data": {
      "text/plain": [
       "<tf.Tensor: shape=(5, 40), dtype=int32, numpy=\n",
       "array([[  101,  6743,  5255,  8325,  8833,  8391,  8325,  3504,  2452,\n",
       "         7559,   100, 10065,   100,  8325,  8833,  8391,  4823, 10208,\n",
       "         6951,   102,  8325,  3504,  2452,  7559,   100, 10065,   100,\n",
       "         8325,  8833,  8391,  4823, 10208,  6951,   102,     0,     0,\n",
       "            0,     0,     0,     0],\n",
       "       [  101,  4929,  3463,  4358,  2665,  3463,  4914,  2828,  5157,\n",
       "         2851,  7761,  2682, 14048,   118, 17592,  6951,  3198,  2111,\n",
       "         4297,  5485,  5557,  3102,   102,  6480,  4834,  5485,  5557,\n",
       "         3102,   102,     0,     0,     0,     0,     0,     0,     0,\n",
       "            0,     0,     0,     0],\n",
       "       [  101,  6837,  8325,  6837,  5012,  4870,  8376,  7073, 10314,\n",
       "        10738,  6951,   102,  4870,  8376,  7073, 10314,  6951,   138,\n",
       "          102,     0,     0,     0,     0,     0,     0,     0,     0,\n",
       "            0,     0,     0,     0,     0,     0,     0,     0,     0,\n",
       "            0,     0,     0,     0],\n",
       "       [  101,  2133,  8833,  3086,  6067,  4532,  3504,  3378,  3091,\n",
       "         7761,   123,  6951,  4375,  4460,  6625,   102,  3378,  3091,\n",
       "         7761,   123,  6951,   102,     0,     0,     0,     0,     0,\n",
       "            0,     0,     0,     0,     0,     0,     0,     0,     0,\n",
       "            0,     0,     0,     0],\n",
       "       [  101,  7155,  3126,  2133,  8833,  5255,  2894,  4714,  7073,\n",
       "        10208,  6951,  2133,  8833,  5255,  8594,  6518,  8477,   102,\n",
       "         2894,  4714,  7073, 10208,  6951,   102,     0,     0,     0,\n",
       "            0,     0,     0,     0,     0,     0,     0,     0,     0,\n",
       "            0,     0,     0,     0]], dtype=int32)>"
      ]
     },
     "execution_count": 14,
     "metadata": {},
     "output_type": "execute_result"
    }
   ],
   "source": [
    "# preparing test data / validation data as per BERT requirements\n",
    "\n",
    "bert_inputs_val = bert_preprocessor([np.array(test_df['address']), np.array(test_df['location'])])\n",
    "print(type(bert_inputs_val))\n",
    "bert_inputs_val['input_word_ids'][:5]"
   ]
  },
  {
   "cell_type": "code",
   "execution_count": null,
   "metadata": {
    "id": "NfWBAem2RSK0"
   },
   "outputs": [],
   "source": [
    "# Validation data labels\n",
    "bert_labels_val = tf.convert_to_tensor(test_df['score'])\n",
    "\n",
    "# preparing train data for BERT and train labels\n",
    "bert_inputs_train = bert_preprocessor([np.array(train_df['address']), np.array(train_df['location'])])\n",
    "\n",
    "# Train data labels\n",
    "bert_labels_train = tf.convert_to_tensor(train_df['score'])\n"
   ]
  },
  {
   "cell_type": "code",
   "execution_count": null,
   "metadata": {
    "colab": {
     "base_uri": "https://localhost:8080/"
    },
    "id": "AZNRRJDzSM5q",
    "outputId": "770ca48e-f29c-4f99-b8cf-9e49b69eda78"
   },
   "outputs": [
    {
     "name": "stdout",
     "output_type": "stream",
     "text": [
      " Total training examples :  4500\n",
      " Total inputs BERT will take :  dict_keys(['input_mask', 'input_word_ids', 'input_type_ids'])\n",
      " Total length of labels for training :  4500\n",
      " Type of BERT inputs :  <class 'dict'> \n",
      " Type of training labels :  <class 'tensorflow.python.framework.ops.EagerTensor'>\n"
     ]
    }
   ],
   "source": [
    "\n",
    "print(\" Total training examples : \",len(bert_inputs_train['input_word_ids']))\n",
    "print(\" Total inputs BERT will take : \",bert_inputs_train.keys())\n",
    "print(\" Total length of labels for training : \",len(bert_labels_train))\n",
    "print(\" Type of BERT inputs : \",type(bert_inputs_train), \\\n",
    "       \"\\n Type of training labels : \",type(bert_labels_train))"
   ]
  },
  {
   "cell_type": "markdown",
   "metadata": {
    "id": "Z6obOVt6_J9t"
   },
   "source": [
    "### Step 5: Creating a TensorFlow Input Pipeline with `tf.data`"
   ]
  },
  {
   "cell_type": "code",
   "execution_count": null,
   "metadata": {
    "id": "QjeLP-KbS5ZB"
   },
   "outputs": [],
   "source": [
    "## Before passing above bert_inputs directly to model we must combine inputs with respected labels for both train & Validation sets\n",
    "## Below function will do this and finally create a Tensor Object that's the final Train & Validation sets we'll pass to our model\n",
    "## We will also specify batch of inputs (32 in our case) that at a time our model will process  \n",
    "\n",
    "def to_feature_map(bert_dict, labels):\n",
    "\n",
    "  AUTOTUNE = tf.data.AUTOTUNE\n",
    "  x = (bert_dict,labels)\n",
    "  with tf.device('/cpu:0'):\n",
    "    final_data = tf.data.Dataset.from_tensor_slices(x).shuffle(1000).batch(32 , drop_remainder = True).prefetch(tf.data.experimental.AUTOTUNE)\n",
    "  return final_data\n",
    "\n"
   ]
  },
  {
   "cell_type": "code",
   "execution_count": null,
   "metadata": {
    "id": "-wSZPoK8T66U"
   },
   "outputs": [],
   "source": [
    "# Creating training data for BERT\n",
    "train_data = to_feature_map(bert_inputs_train, bert_labels_train)\n",
    "\n",
    "# Creating validation data for BERT\n",
    "validation_data = to_feature_map(bert_inputs_val, bert_labels_val)\n"
   ]
  },
  {
   "cell_type": "code",
   "execution_count": null,
   "metadata": {
    "colab": {
     "base_uri": "https://localhost:8080/"
    },
    "id": "wr_DM3qLUlhm",
    "outputId": "344d0e79-25f1-4a8f-ee54-ea2cb57b1019"
   },
   "outputs": [
    {
     "data": {
      "text/plain": [
       "({'input_mask': TensorSpec(shape=(32, 40), dtype=tf.int32, name=None),\n",
       "  'input_type_ids': TensorSpec(shape=(32, 40), dtype=tf.int32, name=None),\n",
       "  'input_word_ids': TensorSpec(shape=(32, 40), dtype=tf.int32, name=None)},\n",
       " TensorSpec(shape=(32,), dtype=tf.int64, name=None))"
      ]
     },
     "execution_count": 19,
     "metadata": {},
     "output_type": "execute_result"
    }
   ],
   "source": [
    "train_data.element_spec"
   ]
  },
  {
   "cell_type": "code",
   "execution_count": null,
   "metadata": {
    "colab": {
     "base_uri": "https://localhost:8080/"
    },
    "id": "s4WsQh1ZVdpU",
    "outputId": "090c82c2-5f28-496d-c93c-e3b5be92887c"
   },
   "outputs": [
    {
     "data": {
      "text/plain": [
       "<TakeDataset shapes: ({input_mask: (32, 40), input_word_ids: (32, 40), input_type_ids: (32, 40)}, (32,)), types: ({input_mask: tf.int32, input_word_ids: tf.int32, input_type_ids: tf.int32}, tf.int64)>"
      ]
     },
     "execution_count": 20,
     "metadata": {},
     "output_type": "execute_result"
    }
   ],
   "source": [
    "train_data.take(1)"
   ]
  },
  {
   "cell_type": "code",
   "execution_count": null,
   "metadata": {
    "id": "wl-vndlrWq29"
   },
   "outputs": [],
   "source": []
  },
  {
   "cell_type": "markdown",
   "metadata": {
    "id": "gkIxYtI5DHJ4"
   },
   "source": [
    "### Step 6: Adding a Classification Head to the BERT `hub.KerasLayer`\n",
    "\n",
    "Now as we will use a BERT multi-lingual model we will defitely fine-tune it on our own DataSet . That's why we will customize it a bit by adding a few layers. \n",
    "See below picture "
   ]
  },
  {
   "cell_type": "markdown",
   "metadata": {
    "id": "MCKrCNNqEhEU"
   },
   "source": [
    "<div align=\"right\">\n",
    "    <img width=\"512px\" src='https://drive.google.com/uc?id=1fnJTeJs5HUpz7nix-F9E6EZdgUflqyEu' />\n",
    "    <p style=\"text-align: center;color:gray\">Figure 3: BERT Layer</p>\n",
    "</div>"
   ]
  },
  {
   "cell_type": "code",
   "execution_count": null,
   "metadata": {
    "collapsed": true,
    "id": "rZkm6pbIVHQr"
   },
   "outputs": [],
   "source": [
    "max_seq_length = 40 # You will change it also based on either of address/location max length\n",
    "\n",
    "\n",
    "# Building the model\n",
    "def create_model():\n",
    "\n",
    "  \"\"\"\n",
    "  Well this is pure Tensorflow model !!!\n",
    "  1. We are defining 3 layers to accept 3 inputs for BERT\n",
    "  2. We will make then as dictionary and load a BERT model from given link\n",
    "  3. We will pass it to BERT and in-return pick the pooled_output results for classification\n",
    "  4. We add a dropout layer & final layer for classification \n",
    "  \"\"\"\n",
    "  \n",
    "  input_word_ids = tf.keras.layers.Input(shape=(max_seq_length,), dtype=tf.int32,\n",
    "                                         name = \"input_word_ids\")\n",
    "  input_mask = tf.keras.layers.Input(shape=(max_seq_length,), dtype=tf.int32,\n",
    "                                   name = \"input_mask\")\n",
    "  input_type_ids=tf.keras.layers.Input(shape=(max_seq_length,), dtype=tf.int32,\n",
    "                                       name = \"input_type_ids\")\n",
    "  \n",
    "  encoder_inputs = dict(input_word_ids = input_word_ids ,input_mask = input_mask,input_type_ids = input_type_ids  )\n",
    "  bert_layer = hub.KerasLayer(\"https://tfhub.dev/tensorflow/bert_multi_cased_L-12_H-768_A-12/4\" , trainable = True , name = 'encoder')\n",
    "  \n",
    "  outputs  = bert_layer(encoder_inputs)\n",
    "  pooled_output = outputs[\"pooled_output\"]      \n",
    "  \n",
    "  drop = tf.keras.layers.Dropout(0.4)(pooled_output)\n",
    "  output = tf.keras.layers.Dense(2, activation=None, name=\"output\")(drop)\n",
    "\n",
    "  model = tf.keras.Model(\n",
    "      inputs={\n",
    "      'input_word_ids': input_word_ids,\n",
    "       'input_mask': input_mask,\n",
    "       'input_type_ids': input_type_ids\n",
    "  },\n",
    "      outputs=output)\n",
    "  return model\n"
   ]
  },
  {
   "cell_type": "code",
   "execution_count": null,
   "metadata": {
    "colab": {
     "base_uri": "https://localhost:8080/"
    },
    "id": "FWAcOVzfX_4j",
    "outputId": "8d15ccfd-e0e7-45b2-c0ce-ef796f8fdc8a"
   },
   "outputs": [
    {
     "data": {
      "text/plain": [
       "<tf.Tensor: shape=(1, 2), dtype=float32, numpy=array([[0.51676756, 0.41768724]], dtype=float32)>"
      ]
     },
     "execution_count": 22,
     "metadata": {},
     "output_type": "execute_result"
    }
   ],
   "source": [
    "## Let's test our model on sample Data \n",
    "\n",
    "test_classifier_model = create_model()\n",
    "bert_raw_result = test_classifier_model(text_preprocessed)\n",
    "tf.sigmoid(bert_raw_result)\n"
   ]
  },
  {
   "cell_type": "code",
   "execution_count": null,
   "metadata": {
    "colab": {
     "base_uri": "https://localhost:8080/"
    },
    "id": "k1Y7gjXDYrVr",
    "outputId": "335c2ac4-9424-42fd-89c2-22ac0d366877"
   },
   "outputs": [
    {
     "data": {
      "text/plain": [
       "0"
      ]
     },
     "execution_count": 23,
     "metadata": {},
     "output_type": "execute_result"
    }
   ],
   "source": [
    "## Its giving '0' output . Well we haven't trained it just cheking if it's actually working\n",
    "\n",
    "np.argmax(tf.sigmoid(bert_raw_result))"
   ]
  },
  {
   "cell_type": "code",
   "execution_count": null,
   "metadata": {
    "colab": {
     "base_uri": "https://localhost:8080/",
     "height": 369
    },
    "id": "iVgexrAIY5dF",
    "outputId": "9fbb5fca-ba0e-402a-afca-9c83103f3500"
   },
   "outputs": [
    {
     "data": {
      "image/png": "[encoded data removed]",
      "text/plain": [
       "<IPython.core.display.Image object>"
      ]
     },
     "execution_count": 24,
     "metadata": {},
     "output_type": "execute_result"
    }
   ],
   "source": [
    "## Here you can see what's the structure of our Tensorflow BERT model\n",
    "\n",
    "tf.keras.utils.plot_model(test_classifier_model)\n"
   ]
  },
  {
   "cell_type": "code",
   "execution_count": null,
   "metadata": {
    "id": "3EyuHlSnY8Bm"
   },
   "outputs": [],
   "source": [
    "# Setting configuration for model\n",
    "# Specifying loss and metrics \n",
    "\n",
    "def get_configuration():\n",
    "\n",
    "  loss = loss = tf.keras.losses.SparseCategoricalCrossentropy(from_logits=True),\n",
    "\n",
    "  metric = tf.keras.metrics.SparseCategoricalAccuracy(\n",
    "        'accuracy', dtype=tf.float32)\n",
    "\n",
    "  return metric, loss"
   ]
  },
  {
   "cell_type": "markdown",
   "metadata": {
    "id": "GevMcPZDEw_s"
   },
   "source": [
    "### Step 7: Fine-Tuning BERT for sentence pairs Classification\n",
    "### Optimizor\n",
    "\n",
    "For fine-tuning, let's use the same optimizer that BERT was originally trained with: the \"Adaptive Moments\" (Adam). This optimizer minimizes the prediction loss and does regularization by weight decay (not using moments), which is also known as [`AdamW`](https://arxiv.org/abs/1711.05101).\n",
    "\n",
    "For the learning rate (init_lr), we will use the same schedule as BERT pre-training: linear decay of a notional initial learning rate, prefixed with a linear warm-up phase over the first 10% of training steps (num_warmup_steps). In line with the BERT paper, the initial learning rate is smaller for fine-tuning (best of 5e-5, 3e-5, 2e-5)."
   ]
  },
  {
   "cell_type": "code",
   "execution_count": null,
   "metadata": {
    "collapsed": true,
    "id": "V9WiQSQtc_mB"
   },
   "outputs": [],
   "source": [
    "## Instantiating the model\n",
    "\n",
    "epochs = 2 # It must be in range of 2-4 \n",
    "init_lr = 2e-5\n",
    "train_data_size = 4500 # You will change it based on your train_df size splitting Data\n",
    "batch_size = 32\n",
    "\n",
    "steps_per_epoch = train_data_size // batch_size \n",
    "num_train_steps = steps_per_epoch * epochs\n",
    "num_warmup_steps = num_train_steps // 10\n",
    "\n",
    "classifier_model = create_model()\n",
    "\n",
    "optimizer = optimization.create_optimizer(\n",
    "      init_lr=init_lr,\n",
    "      num_train_steps=num_train_steps,\n",
    "      num_warmup_steps=num_warmup_steps,\n",
    "      optimizer_type='adamw')\n"
   ]
  },
  {
   "cell_type": "code",
   "execution_count": null,
   "metadata": {
    "colab": {
     "base_uri": "https://localhost:8080/"
    },
    "id": "u7PrG8kHZI6F",
    "outputId": "0aeb36f5-3168-405e-acae-ef7112da3b71"
   },
   "outputs": [
    {
     "name": "stdout",
     "output_type": "stream",
     "text": [
      "Model: \"model_2\"\n",
      "__________________________________________________________________________________________________\n",
      " Layer (type)                   Output Shape         Param #     Connected to                     \n",
      "==================================================================================================\n",
      " input_mask (InputLayer)        [(None, 40)]         0           []                               \n",
      "                                                                                                  \n",
      " input_type_ids (InputLayer)    [(None, 40)]         0           []                               \n",
      "                                                                                                  \n",
      " input_word_ids (InputLayer)    [(None, 40)]         0           []                               \n",
      "                                                                                                  \n",
      " encoder (KerasLayer)           {'default': (None,   177853441   ['input_mask[0][0]',             \n",
      "                                768),                             'input_type_ids[0][0]',         \n",
      "                                 'sequence_output':               'input_word_ids[0][0]']         \n",
      "                                 (None, 40, 768),                                                 \n",
      "                                 'encoder_outputs':                                               \n",
      "                                 [(None, 40, 768),                                                \n",
      "                                 (None, 40, 768),                                                 \n",
      "                                 (None, 40, 768),                                                 \n",
      "                                 (None, 40, 768),                                                 \n",
      "                                 (None, 40, 768),                                                 \n",
      "                                 (None, 40, 768),                                                 \n",
      "                                 (None, 40, 768),                                                 \n",
      "                                 (None, 40, 768),                                                 \n",
      "                                 (None, 40, 768),                                                 \n",
      "                                 (None, 40, 768),                                                 \n",
      "                                 (None, 40, 768),                                                 \n",
      "                                 (None, 40, 768)],                                                \n",
      "                                 'pooled_output': (                                               \n",
      "                                None, 768)}                                                       \n",
      "                                                                                                  \n",
      " dropout_1 (Dropout)            (None, 768)          0           ['encoder[0][13]']               \n",
      "                                                                                                  \n",
      " output (Dense)                 (None, 2)            1538        ['dropout_1[0][0]']              \n",
      "                                                                                                  \n",
      "==================================================================================================\n",
      "Total params: 177,854,979\n",
      "Trainable params: 177,854,978\n",
      "Non-trainable params: 1\n",
      "__________________________________________________________________________________________________\n"
     ]
    }
   ],
   "source": [
    "# Compiling the model\n",
    "metric, loss = get_configuration()\n",
    "\n",
    "classifier_model.compile(optimizer=optimizer,\n",
    "              loss=loss,\n",
    "              metrics = metric)\n",
    "classifier_model.summary()"
   ]
  },
  {
   "cell_type": "code",
   "execution_count": null,
   "metadata": {
    "colab": {
     "base_uri": "https://localhost:8080/",
     "height": 236
    },
    "id": "i2mUDUBmaMsj",
    "outputId": "50d4f456-4bd5-4eca-8016-6dec65f22624"
   },
   "outputs": [
    {
     "data": {
      "image/png": "[encoded data removed]",
      "text/plain": [
       "<IPython.core.display.Image object>"
      ]
     },
     "execution_count": 28,
     "metadata": {},
     "output_type": "execute_result"
    }
   ],
   "source": [
    "tf.keras.utils.plot_model(model = classifier_model, show_shapes = True, dpi=76 )"
   ]
  },
  {
   "cell_type": "code",
   "execution_count": null,
   "metadata": {
    "colab": {
     "base_uri": "https://localhost:8080/"
    },
    "id": "2QVGADh7aglH",
    "outputId": "d8048e08-5014-4a97-fadf-5c9782322978"
   },
   "outputs": [
    {
     "name": "stdout",
     "output_type": "stream",
     "text": [
      "tf.Tensor([0 1 1 1 0 1 0 0 1 0 0 0 0 1 1 0 1 1 0 0 1 0 0 0 0 1 1 0 1 0 0 1], shape=(32,), dtype=int64)\n"
     ]
    }
   ],
   "source": [
    "for text , labls in train_data.take(1):\n",
    "  print(labls)"
   ]
  },
  {
   "cell_type": "code",
   "execution_count": null,
   "metadata": {
    "colab": {
     "base_uri": "https://localhost:8080/"
    },
    "id": "IPJDTUdQalo5",
    "outputId": "38fb48ab-9ecb-4b22-c662-25c77452bab1"
   },
   "outputs": [
    {
     "name": "stdout",
     "output_type": "stream",
     "text": [
      "Epoch 1/2\n",
      "140/140 [==============================] - 2202s 16s/step - loss: 0.2462 - accuracy: 0.8725 - val_loss: 0.0958 - val_accuracy: 0.9710\n",
      "Epoch 2/2\n",
      "140/140 [==============================] - 2208s 16s/step - loss: 0.0439 - accuracy: 0.9893 - val_loss: 0.1037 - val_accuracy: 0.9821\n"
     ]
    }
   ],
   "source": [
    "# Training the model\n",
    "\n",
    "no_of_valid_examples = 450 # Change this one also based on test_df size\n",
    "validation_steps = no_of_valid_examples // batch_size\n",
    "\n",
    "history = classifier_model.fit(\n",
    "      x=train_data,\n",
    "      validation_data=validation_data,\n",
    "      steps_per_epoch=steps_per_epoch,\n",
    "      epochs=epochs,\n",
    "      validation_steps=validation_steps)\n",
    "\n",
    "# It will take much time "
   ]
  },
  {
   "cell_type": "markdown",
   "metadata": {
    "id": "TbqBUhnQF5y_"
   },
   "source": [
    "### Step 8: Evaluating Model performance visually"
   ]
  },
  {
   "cell_type": "code",
   "execution_count": null,
   "metadata": {
    "id": "jXx3vNIJBUbu"
   },
   "outputs": [],
   "source": [
    "import matplotlib.pyplot as plt\n",
    "\n",
    "def plot_graphs(history, metric):\n",
    "  plt.plot(history.history[metric])\n",
    "  plt.plot(history.history['val_'+metric], '')\n",
    "  plt.xlabel(\"Epochs\")\n",
    "  plt.ylabel(metric)\n",
    "  plt.legend([metric, 'val_'+metric])\n",
    "  plt.show()"
   ]
  },
  {
   "cell_type": "code",
   "execution_count": null,
   "metadata": {
    "colab": {
     "base_uri": "https://localhost:8080/",
     "height": 279
    },
    "id": "g2hZAWGDGCfN",
    "outputId": "0c0d0201-3380-40dd-f7d4-1df6ab0c5cd1"
   },
   "outputs": [
    {
     "data": {
      "image/png": "[encoded data removed]",
      "text/plain": [
       "<Figure size 432x288 with 1 Axes>"
      ]
     },
     "metadata": {
      "needs_background": "light"
     },
     "output_type": "display_data"
    }
   ],
   "source": [
    "plot_graphs(history,'loss')"
   ]
  },
  {
   "cell_type": "code",
   "execution_count": null,
   "metadata": {
    "colab": {
     "base_uri": "https://localhost:8080/",
     "height": 279
    },
    "id": "oX5-n4WGGFan",
    "outputId": "942a7b7c-f661-4f7b-e71e-1354fb9c3190"
   },
   "outputs": [
    {
     "data": {
      "image/png": "[encoded data removed]",
      "text/plain": [
       "<Figure size 432x288 with 1 Axes>"
      ]
     },
     "metadata": {
      "needs_background": "light"
     },
     "output_type": "display_data"
    }
   ],
   "source": [
    "plot_graphs(history,'accuracy')"
   ]
  },
  {
   "cell_type": "markdown",
   "metadata": {
    "id": "DjSnB737GQKu"
   },
   "source": [
    "## Step 9: Exporting Model for Inference\n",
    "\n",
    "Here we will save our models . We will save BERT and it's resources like weights etc as well as the preprocessing model we created earlier to process raw text for BERT . We will save the preprocessing model and it's recources like vocab table etc . And then finally at the time of inference we can call both models process our data and get predictions !!"
   ]
  },
  {
   "cell_type": "code",
   "execution_count": null,
   "metadata": {
    "colab": {
     "base_uri": "https://localhost:8080/"
    },
    "id": "COC7G4DUk3Au",
    "outputId": "364ee49e-75b3-49c0-f46c-b2b1db30fd1e"
   },
   "outputs": [
    {
     "name": "stdout",
     "output_type": "stream",
     "text": [
      "https://tfhub.dev/tensorflow/bert_multi_cased_L-12_H-768_A-12/4\n",
      "bert_multi_cased_L-12_H-768_A-12\n",
      "chinese_sentence_classification_bert_multi_cased_L-12_H-768_A-12\n",
      "./my_models_BERT/chinese_sentence_classification_bert_multi_cased_L-12_H-768_A-12\n"
     ]
    }
   ],
   "source": [
    "# Saving our BERT model\n",
    "\n",
    "tfds_name = 'chinese/sentence_classification'\n",
    "main_save_path = './my_models_BERT'\n",
    "\n",
    "bert_type = hub_bert_url.split('/')[-2]\n",
    "saved_model_name = f'{tfds_name.replace(\"/\", \"_\")}_{bert_type}'\n",
    "print(hub_bert_url)\n",
    "print(bert_type)\n",
    "print(saved_model_name)\n",
    "\n",
    "saved_model_path = os.path.join(main_save_path, saved_model_name)\n",
    "print(saved_model_path)\n"
   ]
  },
  {
   "cell_type": "code",
   "execution_count": null,
   "metadata": {
    "colab": {
     "base_uri": "https://localhost:8080/"
    },
    "id": "R91tNWRok-0c",
    "outputId": "5cb09575-ae2d-4d30-e7be-ed31a736a22c"
   },
   "outputs": [
    {
     "name": "stdout",
     "output_type": "stream",
     "text": [
      " Saving model ...\n"
     ]
    },
    {
     "name": "stderr",
     "output_type": "stream",
     "text": [
      "WARNING:absl:Found untraced functions such as restored_function_body, restored_function_body, restored_function_body, restored_function_body, restored_function_body while saving (showing 5 of 915). These functions will not be directly callable after loading.\n"
     ]
    }
   ],
   "source": [
    "## Saving model\n",
    "\n",
    "print(\" Saving model ...\")\n",
    "classifier_model.save(saved_model_path)\n"
   ]
  },
  {
   "cell_type": "code",
   "execution_count": null,
   "metadata": {
    "colab": {
     "base_uri": "https://localhost:8080/"
    },
    "id": "31yD3uMNmRu1",
    "outputId": "01667bac-0359-4092-af16-22cd623522e8"
   },
   "outputs": [
    {
     "name": "stdout",
     "output_type": "stream",
     "text": [
      "https://tfhub.dev/tensorflow/bert_multi_cased_preprocess/3\n",
      "bert_multi_cased_preprocess\n",
      "chinese_sentence_classification_bert_multi_cased_preprocess\n",
      "./my_models_BERT/chinese_sentence_classification_bert_multi_cased_preprocess\n",
      "\n",
      "Saving preprocessor model ...\n"
     ]
    }
   ],
   "source": [
    "## Saving preprocessor Model\n",
    "\n",
    "preprocessor_type = hub_handle_preprocess.split('/')[-2]\n",
    "saved_preprocessor_name = f'{tfds_name.replace(\"/\", \"_\")}_{preprocessor_type}'\n",
    "saved_preprocessor_path = os.path.join(main_save_path, saved_preprocessor_name)\n",
    "\n",
    "print(hub_handle_preprocess)\n",
    "print(preprocessor_type)\n",
    "print(saved_preprocessor_name)\n",
    "print(saved_preprocessor_path)\n",
    "\n",
    "\n",
    "print(\"\\nSaving preprocessor model ...\")\n",
    "bert_preprocessor.save(saved_preprocessor_path)\n"
   ]
  },
  {
   "cell_type": "markdown",
   "metadata": {
    "id": "eKQ3TGzOLgJi"
   },
   "source": [
    "### Step 10: Testing our BERT model\n",
    "\n",
    "Now Let's test our model by reloading fresh models we've just saved and then getting predictions on some sample Data"
   ]
  },
  {
   "cell_type": "code",
   "execution_count": null,
   "metadata": {
    "colab": {
     "base_uri": "https://localhost:8080/"
    },
    "id": "b2LVvdrfK4FE",
    "outputId": "dfa2104c-79ef-47c8-e9bb-f725525ebc4e"
   },
   "outputs": [
    {
     "name": "stdout",
     "output_type": "stream",
     "text": [
      "./my_models_BERT/chinese_sentence_classification_bert_multi_cased_L-12_H-768_A-12\n",
      "./my_models_BERT/chinese_sentence_classification_bert_multi_cased_preprocess\n"
     ]
    }
   ],
   "source": [
    "## Reloading fresh models \n",
    "\n",
    "print(saved_model_path)\n",
    "print(saved_preprocessor_path)\n",
    "\n",
    "reloaded_model = tf.saved_model.load(saved_model_path)\n",
    "reloaded_preprocessor = tf.saved_model.load(saved_preprocessor_path)\n"
   ]
  },
  {
   "cell_type": "code",
   "execution_count": null,
   "metadata": {
    "id": "Q_PrMs_HnPxJ"
   },
   "outputs": [],
   "source": [
    "# Function for transforming raw inputs into a format that reloaded_model accepts\n",
    "\n",
    "sentence_features = ['address', 'location']\n",
    "\n",
    "def prepare(record):\n",
    "  model_inputs = [np.array(record[ft]) for ft in sentence_features]\n",
    "  labels = int(record['score'].values)\n",
    "  return model_inputs , labels\n"
   ]
  },
  {
   "cell_type": "code",
   "execution_count": null,
   "metadata": {
    "id": "vW6R4su8p3ug"
   },
   "outputs": [],
   "source": [
    "## Function to present address. location, score & BERT predicted score\n",
    "\n",
    "def evaluate(test , label):\n",
    "  \n",
    "  l1 = [ i for i in test]\n",
    "  print(f' Address : {l1[0]} \\n Location : {l1[1]}')\n",
    "  print(\" Original score : \" , label)\n",
    "  bert_inputs_dict = reloaded_preprocessor(test)\n",
    "  result = reloaded_model(bert_inputs_dict)\n",
    "  print(\" BERT predicted score : \", tf.argmax(result, axis=1)[0])    \n",
    "  print('\\n')\n"
   ]
  },
  {
   "cell_type": "code",
   "execution_count": null,
   "metadata": {
    "colab": {
     "base_uri": "https://localhost:8080/"
    },
    "id": "EfgwxvNPzL-w",
    "outputId": "47ea4609-4449-4f7a-9d72-7b46505accec"
   },
   "outputs": [
    {
     "name": "stdout",
     "output_type": "stream",
     "text": [
      " BERT input text :  [array(['荃灣葵涌老圍145號淨慧苑'], dtype=object), array(['老圍148號'], dtype=object)]\n",
      " Label/Score :  0\n"
     ]
    }
   ],
   "source": [
    "## Testing sample\n",
    "bert_input, label = prepare(train_df.head(1))\n",
    "print(\" BERT input text : \", bert_input)\n",
    "print(\" Label/Score : \", label)\n"
   ]
  },
  {
   "cell_type": "code",
   "execution_count": null,
   "metadata": {
    "colab": {
     "base_uri": "https://localhost:8080/"
    },
    "id": "u_grzZk2qGtS",
    "outputId": "8d2270cb-8767-4483-8484-047b21360f3c"
   },
   "outputs": [
    {
     "name": "stdout",
     "output_type": "stream",
     "text": [
      " Address : ['葵青葵涌荔枝嶺路35號仁濟醫院華懋護理安老院'] \n",
      " Location : ['荔枝嶺路35號']\n",
      " Original score :  1\n",
      " BERT predicted score :  tf.Tensor(1, shape=(), dtype=int64)\n",
      "\n",
      "\n"
     ]
    }
   ],
   "source": [
    "## Testing sample \n",
    "bert_input, label = prepare(train_df.sample(1))\n",
    "evaluate(bert_input , label)\n"
   ]
  },
  {
   "cell_type": "code",
   "execution_count": null,
   "metadata": {
    "colab": {
     "base_uri": "https://localhost:8080/"
    },
    "id": "NE6aJzezqoZZ",
    "outputId": "7d2eb351-46eb-4fb2-d94f-0d99c822e90e"
   },
   "outputs": [
    {
     "name": "stdout",
     "output_type": "stream",
     "text": [
      " Address : ['黃大仙九龍城聯合道150號華德學校'] \n",
      " Location : ['崇德學校']\n",
      " Original score :  0\n",
      " BERT predicted score :  tf.Tensor(0, shape=(), dtype=int64)\n",
      "\n",
      "\n"
     ]
    }
   ],
   "source": [
    "## Testing sample \n",
    "bert_input, label = prepare(train_df.sample(1))\n",
    "evaluate(bert_input , label)\n"
   ]
  },
  {
   "cell_type": "code",
   "execution_count": null,
   "metadata": {
    "colab": {
     "base_uri": "https://localhost:8080/"
    },
    "id": "a-JLD6h3oxSp",
    "outputId": "3c142522-a986-44ce-e487-dae73e2824bc"
   },
   "outputs": [
    {
     "name": "stdout",
     "output_type": "stream",
     "text": [
      " Address : ['觀塘油塘嶺南古廟'] \n",
      " Location : ['東山古廟']\n",
      " Original score :  0\n",
      " BERT predicted score :  tf.Tensor(0, shape=(), dtype=int64)\n",
      "\n",
      "\n"
     ]
    }
   ],
   "source": [
    "## Testing sample\n",
    "bert_input, label = prepare(train_df.sample(1))\n",
    "evaluate(bert_input , label)\n"
   ]
  },
  {
   "cell_type": "code",
   "execution_count": null,
   "metadata": {
    "colab": {
     "base_uri": "https://localhost:8080/"
    },
    "id": "5pwkoXPAsHum",
    "outputId": "a96e63dc-5db1-4da8-fe87-eeb6b14b8b11"
   },
   "outputs": [
    {
     "name": "stdout",
     "output_type": "stream",
     "text": [
      " Address : ['九龍城馬頭圍炮仗街71號嘉景花園'] \n",
      " Location : ['花園街71號']\n",
      " Original score :  0\n",
      " BERT predicted score :  tf.Tensor(0, shape=(), dtype=int64)\n",
      "\n",
      "\n"
     ]
    }
   ],
   "source": [
    "## Testing sample \n",
    "bert_input, label = prepare(train_df.sample(1))\n",
    "evaluate(bert_input , label)\n"
   ]
  },
  {
   "cell_type": "code",
   "execution_count": null,
   "metadata": {
    "colab": {
     "base_uri": "https://localhost:8080/"
    },
    "id": "8hDK6YR5z1Df",
    "outputId": "d43c560c-c042-49a5-b645-d4c81d2d80e0"
   },
   "outputs": [
    {
     "name": "stdout",
     "output_type": "stream",
     "text": [
      " Address : ['九龍城馬頭圍英才徑4號英才職業技能培訓中心'] \n",
      " Location : ['英才職業技能培訓中心']\n",
      " Original score :  1\n",
      " BERT predicted score :  tf.Tensor(1, shape=(), dtype=int64)\n",
      "\n",
      "\n"
     ]
    }
   ],
   "source": [
    "## Testing sample\n",
    "bert_input, label = prepare(train_df.sample(1))\n",
    "evaluate(bert_input , label)\n"
   ]
  },
  {
   "cell_type": "code",
   "execution_count": null,
   "metadata": {
    "colab": {
     "base_uri": "https://localhost:8080/"
    },
    "id": "bRzllsq9z2PN",
    "outputId": "9a01b07c-6962-4cf2-b417-1305ebc55f59"
   },
   "outputs": [
    {
     "name": "stdout",
     "output_type": "stream",
     "text": [
      " Address : ['屯門三聖墟青山三洲媽廟'] \n",
      " Location : ['三聖廟']\n",
      " Original score :  0\n",
      " BERT predicted score :  tf.Tensor(0, shape=(), dtype=int64)\n",
      "\n",
      "\n"
     ]
    }
   ],
   "source": [
    "## Testing sample \n",
    "bert_input, label = prepare(train_df.sample(1))\n",
    "evaluate(bert_input , label)\n"
   ]
  },
  {
   "cell_type": "code",
   "execution_count": null,
   "metadata": {
    "colab": {
     "base_uri": "https://localhost:8080/"
    },
    "id": "dCfRCUskz3Ik",
    "outputId": "4edbc941-4772-48fc-921b-da681d9b4e25"
   },
   "outputs": [
    {
     "name": "stdout",
     "output_type": "stream",
     "text": [
      " Address : ['深水埗又一村海棠路66號香港基督教女青年會又一村會所賽馬會樓'] \n",
      " Location : ['海棠路68號']\n",
      " Original score :  0\n",
      " BERT predicted score :  tf.Tensor(0, shape=(), dtype=int64)\n",
      "\n",
      "\n"
     ]
    }
   ],
   "source": [
    "## Testing sample\n",
    "bert_input, label = prepare(train_df.sample(1))\n",
    "evaluate(bert_input , label)\n"
   ]
  },
  {
   "cell_type": "code",
   "execution_count": null,
   "metadata": {
    "colab": {
     "base_uri": "https://localhost:8080/"
    },
    "id": "hABGAZoRz54d",
    "outputId": "477a6e40-2c74-4dcb-cc5a-86b0e8d0a765"
   },
   "outputs": [
    {
     "name": "stdout",
     "output_type": "stream",
     "text": [
      " Address : ['離島區大嶼山華嚴閣'] \n",
      " Location : ['華嚴閣']\n",
      " Original score :  1\n",
      " BERT predicted score :  tf.Tensor(1, shape=(), dtype=int64)\n",
      "\n",
      "\n"
     ]
    }
   ],
   "source": [
    "## Testing sample\n",
    "bert_input, label = prepare(train_df.sample(1))\n",
    "evaluate(bert_input , label)\n"
   ]
  },
  {
   "cell_type": "markdown",
   "metadata": {
    "id": "BvmbG4jADYnd"
   },
   "source": [
    "## 😂😂😂 That's all Baby !!!"
   ]
  },
  {
   "cell_type": "code",
   "execution_count": null,
   "metadata": {
    "id": "6zN1P9Q8z8uh"
   },
   "outputs": [],
   "source": []
  }
 ],
 "metadata": {
  "colab": {
   "collapsed_sections": [],
   "name": "Chinese sequence classification.ipynb",
   "provenance": []
  },
  "kernelspec": {
   "display_name": "Python 3",
   "language": "python",
   "name": "python3"
  },
  "language_info": {
   "codemirror_mode": {
    "name": "ipython",
    "version": 3
   },
   "file_extension": ".py",
   "mimetype": "text/x-python",
   "name": "python",
   "nbconvert_exporter": "python",
   "pygments_lexer": "ipython3",
   "version": "3.8.5"
  }
 },
 "nbformat": 4,
 "nbformat_minor": 1
}
